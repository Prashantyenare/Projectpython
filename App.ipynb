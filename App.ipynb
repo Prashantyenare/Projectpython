{
 "cells": [
  {
   "cell_type": "code",
   "execution_count": 4,
   "id": "cb6dcb82",
   "metadata": {},
   "outputs": [
    {
     "ename": "FileNotFoundError",
     "evalue": "[Errno 2] No such file or directory: 'C:\\\\Users\\\\HP\\\\Downloads\\\\assets\\\\loan_predict.pkl'",
     "output_type": "error",
     "traceback": [
      "\u001b[1;31m---------------------------------------------------------------------------\u001b[0m",
      "\u001b[1;31mFileNotFoundError\u001b[0m                         Traceback (most recent call last)",
      "\u001b[1;32m~\\AppData\\Local\\Temp/ipykernel_9964/2554813822.py\u001b[0m in \u001b[0;36m<module>\u001b[1;34m\u001b[0m\n\u001b[0;32m      8\u001b[0m \u001b[0mcurrent_path\u001b[0m \u001b[1;33m=\u001b[0m \u001b[0mos\u001b[0m\u001b[1;33m.\u001b[0m\u001b[0mgetcwd\u001b[0m\u001b[1;33m(\u001b[0m\u001b[1;33m)\u001b[0m\u001b[1;33m\u001b[0m\u001b[1;33m\u001b[0m\u001b[0m\n\u001b[0;32m      9\u001b[0m \u001b[0mpickle_path\u001b[0m \u001b[1;33m=\u001b[0m \u001b[0mos\u001b[0m\u001b[1;33m.\u001b[0m\u001b[0mpath\u001b[0m\u001b[1;33m.\u001b[0m\u001b[0mjoin\u001b[0m\u001b[1;33m(\u001b[0m\u001b[0mcurrent_path\u001b[0m\u001b[1;33m,\u001b[0m \u001b[1;34m\"assets\"\u001b[0m\u001b[1;33m,\u001b[0m \u001b[1;34m\"loan_predict.pkl\"\u001b[0m\u001b[1;33m)\u001b[0m\u001b[1;33m\u001b[0m\u001b[1;33m\u001b[0m\u001b[0m\n\u001b[1;32m---> 10\u001b[1;33m \u001b[0mmodel\u001b[0m \u001b[1;33m=\u001b[0m \u001b[0mpickle\u001b[0m\u001b[1;33m.\u001b[0m\u001b[0mload\u001b[0m\u001b[1;33m(\u001b[0m\u001b[0mopen\u001b[0m\u001b[1;33m(\u001b[0m\u001b[0mpickle_path\u001b[0m\u001b[1;33m,\u001b[0m \u001b[1;34m\"rb\"\u001b[0m\u001b[1;33m)\u001b[0m\u001b[1;33m)\u001b[0m\u001b[1;33m\u001b[0m\u001b[1;33m\u001b[0m\u001b[0m\n\u001b[0m\u001b[0;32m     11\u001b[0m \u001b[1;33m\u001b[0m\u001b[0m\n\u001b[0;32m     12\u001b[0m \u001b[1;33m\u001b[0m\u001b[0m\n",
      "\u001b[1;31mFileNotFoundError\u001b[0m: [Errno 2] No such file or directory: 'C:\\\\Users\\\\HP\\\\Downloads\\\\assets\\\\loan_predict.pkl'"
     ]
    }
   ],
   "source": [
    "from flask import Flask, render_template, request\n",
    "import os, requests, pickle, sklearn\n",
    "import numpy as np\n",
    "import database_connect\n",
    "\n",
    "app = Flask(__name__)\n",
    "\n",
    "current_path = os.getcwd()\n",
    "pickle_path = os.path.join(current_path, \"assets\", \"loan_predict.pkl\")\n",
    "model = pickle.load(open(pickle_path, \"rb\"))\n",
    "\n",
    "\n",
    "@app.route(\"/\")\n",
    "@app.route(\"/home\", methods=['GET'])\n",
    "def home():\n",
    "    return render_template(\"index.html\")\n",
    "\n",
    "\n",
    "@app.route(\"/predict\", methods=[\"POST\"])\n",
    "def predict():\n",
    "    if request.method == 'POST':\n",
    "        loan_amnt = int(request.form['loan_amnt'])\n",
    "        term = int(request.form['term'])\n",
    "        int_rate = float(request.form['int_rate'])\n",
    "        emp_length = float(request.form['emp_length'])\n",
    "        home_ownership = int(request.form['home_ownership'])\n",
    "        annual_inc = float(request.form['annual_inc'])\n",
    "        annual_inc = np.log(annual_inc)\n",
    "        purpose = int(request.form['purpose'])\n",
    "        addr_state = int(request.form['addr_state'])\n",
    "        dti = float(request.form['dti'])\n",
    "        delinq_2yrs = float(request.form['delinq_2yrs'])\n",
    "        revol_util = float(request.form['revol_util'])\n",
    "        total_acc = float(request.form['total_acc'])\n",
    "        longest_credit_length = float(request.form['longest_credit_length'])\n",
    "        verification_status = int(request.form['verification_status'])\n",
    "        prediction =model.predict([[loan_amnt, term, int_rate, emp_length, home_ownership, annual_inc, purpose,\n",
    "                                       addr_state, dti, delinq_2yrs, revol_util, total_acc, longest_credit_length,\n",
    "                                       verification_status]])\n",
    "        output = int(prediction)\n",
    "\n",
    "        database_connect.insert_record(loan_amnt, term, int_rate, emp_length, home_ownership, annual_inc, purpose,\n",
    "                                       addr_state, dti, delinq_2yrs, revol_util, total_acc, longest_credit_length,\n",
    "                                       verification_status, output)\n",
    "        if output == 0:\n",
    "            return render_template('index.html', prediction_text=\"It does not lead to Defaulter Customer\")\n",
    "\n",
    "        else:\n",
    "            return render_template('index.html', prediction_text=\"It leads to Defaulter Customer\")\n",
    "    else:\n",
    "        return render_template(\"index.html\")\n",
    "\n",
    "\n",
    "if __name__ == \"__main__\":\n",
    "    app.run(debug=True)\n"
   ]
  },
  {
   "cell_type": "code",
   "execution_count": 22,
   "id": "ca0697ba",
   "metadata": {},
   "outputs": [
    {
     "name": "stdout",
     "output_type": "stream",
     "text": [
      "enter the number :28\n",
      "the enter number is perfect number\n"
     ]
    }
   ],
   "source": [
    "num = int(input(\"enter the number :\"))\n",
    "sum_v= 0\n",
    "for i in range(1,num):\n",
    "    if(num % i == 0):\n",
    "        sum_v = sum_v + i\n",
    "if(sum_v == num):\n",
    "    print(\"the enter number is perfect number\")\n",
    "else:\n",
    "    print(\"the enter the number is not perfect\")"
   ]
  },
  {
   "cell_type": "code",
   "execution_count": 20,
   "id": "e4fa8115",
   "metadata": {},
   "outputs": [
    {
     "name": "stdout",
     "output_type": "stream",
     "text": [
      "enter the number :6\n",
      "the enter number is perfect number\n"
     ]
    }
   ],
   "source": [
    "num = int(input(\"enter the number :\"))\n",
    "sum_v= 0\n",
    "for i in range(1,num):\n",
    "    if(num % i == 0):\n",
    "        sum_v = sum_v + i\n",
    "if(sum_v == num):\n",
    "    print(\"the enter number is perfect number\")\n",
    "else:\n",
    "    print(\"the enter the number is not perfect\")"
   ]
  },
  {
   "cell_type": "code",
   "execution_count": 19,
   "id": "16cb8b97",
   "metadata": {},
   "outputs": [
    {
     "name": "stdout",
     "output_type": "stream",
     "text": [
      "enter the number :496\n",
      "the enter number is perfect\n"
     ]
    }
   ],
   "source": [
    "num = int(input(\"enter the number :\"))\n",
    "sum_v= 0\n",
    "for i in range(1,num):\n",
    "    if(num % i == 0):\n",
    "        sum_v = sum_v + i\n",
    "if(sum_v == num):\n",
    "    print(\"the enter number is perfect\")\n",
    "else:\n",
    "    print(\"the enter number is not perfect\")"
   ]
  },
  {
   "cell_type": "code",
   "execution_count": null,
   "id": "3ee0d1e5",
   "metadata": {},
   "outputs": [],
   "source": []
  }
 ],
 "metadata": {
  "kernelspec": {
   "display_name": "Python 3 (ipykernel)",
   "language": "python",
   "name": "python3"
  },
  "language_info": {
   "codemirror_mode": {
    "name": "ipython",
    "version": 3
   },
   "file_extension": ".py",
   "mimetype": "text/x-python",
   "name": "python",
   "nbconvert_exporter": "python",
   "pygments_lexer": "ipython3",
   "version": "3.9.7"
  }
 },
 "nbformat": 4,
 "nbformat_minor": 5
}
